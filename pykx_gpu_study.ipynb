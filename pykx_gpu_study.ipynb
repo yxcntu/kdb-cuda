{
 "cells": [
  {
   "cell_type": "markdown",
   "metadata": {},
   "source": [
    "# A naive comparison of data query performance between kdb+/q and GPU"
   ]
  },
  {
   "cell_type": "markdown",
   "metadata": {},
   "source": [
    "## 1. Introduction"
   ]
  },
  {
   "cell_type": "markdown",
   "metadata": {},
   "source": [
    "'Select-By' is a basic database query commonly used on tables to get the last value by a certain column name(s) as known as the key column. kdb+/q is well-known for its strong performance on columnar tables and fast speed on grouping data by key column(s). Especially with the nature of in-memory processing, it can leverage the high speed RAM and high CPU clock freuqencies to achieve results in lightening speed.\n",
    "\n",
    "GPU is the top popular hardware that is being discussed all over the world, mostly famous for its supreme power on AI performance. Nvidia's CUDA technology specifically excels in this domain due to its extremem parallel processing capabilities built on thousands of GPU cores (CUDA). It also provides significant advantage on parallelizing database queries such as grouping and aggregation.\n",
    "\n",
    "In this notebook, we will be exploring the performances of CPU bound 'select-by' performance, and the GPU bound performance, using a consumer grade hardware, to have an idea of how fast each of them are processing."
   ]
  },
  {
   "cell_type": "raw",
   "metadata": {},
   "source": [
    "System Specifications for this test:\n",
    "\n",
    "CPU                : AMD Ryzen 9 5900X ( 12 core / 24 threads, 3.7GHz / 4.8GHz )\n",
    "RAM                : 32GB 3600MHz\n",
    "GPU                : NVIDIA GeForce RTX 4060 Ti 16 GB  ( 4352 core, 6GB VRAM, Bandwidth 288.0 GB/s)\n",
    "GPU Driver Version : 550.120        CUDA Version: 12.4\n",
    "OS                 : Ubuntu 22.04.4 LTS"
   ]
  },
  {
   "cell_type": "raw",
   "metadata": {
    "vscode": {
     "languageId": "raw"
    }
   },
   "source": [
    "Software and Libraries:\n",
    "\n",
    "pykx (personal edition)   -  q code evaluation and conversion to pandas dataframe   (https://code.kx.com/pykx/3.1/index.html)\n",
    "pandas                    -  store pykx objects and conversion to pandas dataframe\n",
    "cuDF                      -  cuda support for dataframe queries                     (https://github.com/rapidsai/cudf)\n",
    "CuPy                      -  cuda execution time profiling                          (https://github.com/cupy/cupy)\n",
    "matplotlib                -  result illustration"
   ]
  },
  {
   "cell_type": "markdown",
   "metadata": {},
   "source": [
    "**\\*All code in this notebook are in python**"
   ]
  },
  {
   "cell_type": "markdown",
   "metadata": {},
   "source": [
    "## 2. Proof of Concept\n",
    "We want to use a quick demo to verify that the test plan is workable.\n",
    "\n",
    "1. Prepare a small table in kx.q to run 'select by' query\n",
    "2. Run kx.q(query) to get the result on q process and bring the result back to python and store as pandas dataframe\n",
    "3. Run cudf to get the result on gpu and bring back to python and store as pandas dataframe\n",
    "4. Use pandas comparison features to verify the results"
   ]
  },
  {
   "cell_type": "code",
   "execution_count": 1,
   "metadata": {},
   "outputs": [],
   "source": [
    "import pykx as kx\n",
    "import pandas as pd\n",
    "import numpy as np\n",
    "import cudf\n",
    "import cupy\n",
    "import matplotlib.pyplot as plt"
   ]
  },
  {
   "cell_type": "markdown",
   "metadata": {},
   "source": [
    "Notice that in pykx, the embedded q session automatically utilizes all the 24 CPU threads without explicitly setting \\s\n",
    "\n",
    "This helps us confirm that the CPU is fully utilized to increase performance."
   ]
  },
  {
   "cell_type": "code",
   "execution_count": 2,
   "metadata": {},
   "outputs": [
    {
     "data": {
      "text/plain": [
       "pykx.IntAtom(pykx.q('24i'))"
      ]
     },
     "execution_count": 2,
     "metadata": {},
     "output_type": "execute_result"
    }
   ],
   "source": [
    "kx.q('\\s')"
   ]
  },
  {
   "cell_type": "markdown",
   "metadata": {},
   "source": [
    "#### 2.1 Quick Example for POC"
   ]
  },
  {
   "cell_type": "code",
   "execution_count": 3,
   "metadata": {
    "scrolled": true
   },
   "outputs": [
    {
     "name": "stdout",
     "output_type": "stream",
     "text": [
      "q result is :        nid    id\n",
      "0        0  8719\n",
      "1        2  6863\n",
      "2        6   267\n",
      "3        7  2810\n",
      "4        8  5503\n",
      "...    ...   ...\n",
      "6311  9992  7755\n",
      "6312  9993  4796\n",
      "6313  9994  4579\n",
      "6314  9995  4823\n",
      "6315  9996  8594\n",
      "\n",
      "[6316 rows x 2 columns]\n",
      "gpu result is        nid    id\n",
      "0        0  8719\n",
      "1        2  6863\n",
      "2        6   267\n",
      "3        7  2810\n",
      "4        8  5503\n",
      "...    ...   ...\n",
      "6311  9992  7755\n",
      "6312  9993  4796\n",
      "6313  9994  4579\n",
      "6314  9995  4823\n",
      "6315  9996  8594\n",
      "\n",
      "[6316 rows x 2 columns]\n"
     ]
    }
   ],
   "source": [
    "# generate a table of 10000 rows with 2 columns of random int\n",
    "qsql=f'x:10000;d:([]id:x?x;nid:x?x)'\n",
    "# the table will reside in the embedded q process after running the q sql\n",
    "kx.q(qsql)\n",
    "# run 'select-by' on table d and save result in r\n",
    "qresult = kx.q(\"0!select by nid from d\").pd().reset_index(drop=True)\n",
    "print(f'q result is : {qresult}')\n",
    "\n",
    "# using pykx function pd() to convert q process data to pandas data frame, and then pass into gpu using cudf from_pandas()\n",
    "gpudf = cudf.DataFrame.from_pandas(kx.q('d').pd())\n",
    "# run cudf functions to achieve equivalent 'select by' result ( note that kdb+ sorts the key column when running select-by, therefore the gpu result also needs to be sorted )\n",
    "gresult = gpudf.groupby('nid').last().reset_index().sort_values('nid').to_pandas()\n",
    "print(f'gpu result is {qresult}')"
   ]
  },
  {
   "cell_type": "markdown",
   "metadata": {},
   "source": [
    "First look of the two results are the same. We can define a comparison function to verify that the results match."
   ]
  },
  {
   "cell_type": "markdown",
   "metadata": {},
   "source": [
    "#### 2.2 Verification of results"
   ]
  },
  {
   "cell_type": "code",
   "execution_count": 16,
   "metadata": {},
   "outputs": [],
   "source": [
    "def result_equal(qresult, gresult):    \n",
    "    print(\"Index equal:\", qresult.index.equals(gresult.index))\n",
    "    print(\"Columns equal:\", qresult.columns.equals(gresult.columns))\n",
    "    print(\"Columns type equal:\", qresult.dtypes == gresult.dtypes)\n",
    "    print(\"Element-wise equality:\\n\", (qresult == gresult).all().all())  # True if all values match        \n",
    "    print(\"Array equal:\", np.array_equal(qresult.to_numpy(), gresult.to_numpy()))\n",
    "    return qresult.shape == gresult.shape and qresult.columns.equals(gresult.columns) and qresult.index.equals(gresult.index) and np.array_equal(qresult.to_numpy(), gresult.to_numpy())"
   ]
  },
  {
   "cell_type": "code",
   "execution_count": 17,
   "metadata": {},
   "outputs": [
    {
     "name": "stdout",
     "output_type": "stream",
     "text": [
      "Index equal: True\n",
      "Columns equal: True\n",
      "Columns type equal: nid    True\n",
      "id     True\n",
      "dtype: bool\n",
      "Element-wise equality:\n",
      " True\n",
      "Array equal: True\n"
     ]
    },
    {
     "data": {
      "text/plain": [
       "True"
      ]
     },
     "execution_count": 17,
     "metadata": {},
     "output_type": "execute_result"
    }
   ],
   "source": [
    "result_equal(qresult, gresult)"
   ]
  },
  {
   "cell_type": "markdown",
   "metadata": {},
   "source": [
    "We can see that both the values in the results match, the metadata also match.\n",
    "Now we have verified that the two methods can produce the same results, we can move on to the benchmarking stage"
   ]
  },
  {
   "cell_type": "markdown",
   "metadata": {},
   "source": [
    "## 3. Define benchmark steps and specifications\n",
    "- init q workspace\n",
    "- generate data based on row count N (0 - 100M )\n",
    "- run \"select by\" statement inside the embedded q process and collect time cost\n",
    "- run GPU cudf equivalent on the GPU side and collect time cost ( this will include the data transfer overhead from RAM to GPU and GPU to RAM )\n",
    "- carry out 3 runs for every data size, take average time cost to avoid bias"
   ]
  },
  {
   "cell_type": "markdown",
   "metadata": {},
   "source": [
    "Note that the benchmarking of GPU time cost is a naive implementation based on CuPy reference:\n",
    "https://docs.cupy.dev/en/stable/user_guide/performance.html\n",
    "\n",
    "More sophisticated profiling methods can be used to provide better insights."
   ]
  },
  {
   "cell_type": "markdown",
   "metadata": {},
   "source": [
    "#### 3.1 Define benchmark functions"
   ]
  },
  {
   "cell_type": "code",
   "execution_count": 6,
   "metadata": {},
   "outputs": [],
   "source": [
    "def benchmark_q():\n",
    "    qts = kx.q('system\"t r:0!select by nid from d\"').py()       # store time cost in python object\n",
    "    qre = kx.q('r').pd().reset_index(drop=True)                 # store result in pandas dataframe\n",
    "    return qts, qre\n",
    "\n",
    "def benchmark_gpu():\n",
    "    start = cupy.cuda.Event()                                   # use cupy to capture time cost\n",
    "    end = cupy.cuda.Event()\n",
    "    start.record()    \n",
    "    gdf = cudf.DataFrame.from_pandas(kx.q('d').pd())            # convert q table object to pandas dataframe, and then transfer to gpu dataframe    \n",
    "    result = gdf.groupby('nid').last().reset_index().sort_values('nid').to_pandas()  # run cuda dataframe logic and transfer the result back to pandas dataframe, i.e. back to CPU/RAM\n",
    "    end.record()\n",
    "    end.synchronize()\n",
    "    elapsed_ms = cupy.cuda.get_elapsed_time(start, end)         # note that the overhead of data transfer cost from CPU -> GPU and GPU -> CPU are included\n",
    "    return elapsed_ms, result\n",
    "\n",
    "def benchmark(n:int):\n",
    "    kx.q('delete d,r from `.;.Q.gc[]')         # init q workspace to cleanup heap memory\n",
    "    qsql=f'x:{n};d:([]id:x?x;nid:x?x)'         # generate data based on row count N    \n",
    "    kx.q(qsql)                                 # run q sql\n",
    "    qts,qre = benchmark_q()                    # collect q benchmark results\n",
    "    gts,gre = benchmark_gpu()                  # collect gpu benchmark results    \n",
    "    rv = result_equal(qre, gre)\n",
    "    print(f'Data Comparison between q result and GPU result : {rv}')   # print result comparison matching\n",
    "    return qts, gts, rv\n"
   ]
  },
  {
   "cell_type": "markdown",
   "metadata": {},
   "source": [
    "#### 3.2 Run benchmarks\n",
    "We use two caches to store the time cost for q and GPU separately, one cache for data comparison boolean result.\n",
    "\n",
    "The test data size range is from 0 to 100M, with step of 1M\n",
    "\n",
    "Time cost and result comparison results are printed in each round."
   ]
  },
  {
   "cell_type": "code",
   "execution_count": null,
   "metadata": {
    "scrolled": true
   },
   "outputs": [
    {
     "name": "stdout",
     "output_type": "stream",
     "text": [
      "Data Comparison between q result and GPU result : True\n",
      "Data Comparison between q result and GPU result : True\n",
      "Data Comparison between q result and GPU result : True\n",
      "time cost is \t | q: 0.0 ms and GPU : 1.6716372966766357 ms for row count 0\n",
      "Data Comparison between q result and GPU result : True\n",
      "Data Comparison between q result and GPU result : True\n",
      "Data Comparison between q result and GPU result : True\n",
      "time cost is \t | q: 24.0 ms and GPU : 14.983370463053385 ms for row count 1000000\n",
      "Data Comparison between q result and GPU result : True\n",
      "Data Comparison between q result and GPU result : True\n",
      "Data Comparison between q result and GPU result : True\n",
      "time cost is \t | q: 64.66666666666667 ms and GPU : 29.113375981648762 ms for row count 2000000\n",
      "Data Comparison between q result and GPU result : True\n",
      "Data Comparison between q result and GPU result : True\n",
      "Data Comparison between q result and GPU result : True\n",
      "time cost is \t | q: 104.0 ms and GPU : 44.54094950358073 ms for row count 3000000\n",
      "Data Comparison between q result and GPU result : True\n",
      "Data Comparison between q result and GPU result : True\n",
      "Data Comparison between q result and GPU result : True\n",
      "time cost is \t | q: 148.33333333333334 ms and GPU : 60.588436126708984 ms for row count 4000000\n",
      "Data Comparison between q result and GPU result : True\n",
      "Data Comparison between q result and GPU result : True\n",
      "Data Comparison between q result and GPU result : True\n",
      "time cost is \t | q: 205.33333333333334 ms and GPU : 79.14981333414714 ms for row count 5000000\n",
      "Data Comparison between q result and GPU result : True\n",
      "Data Comparison between q result and GPU result : True\n",
      "Data Comparison between q result and GPU result : True\n",
      "time cost is \t | q: 262.6666666666667 ms and GPU : 88.35251108805339 ms for row count 6000000\n",
      "Data Comparison between q result and GPU result : True\n",
      "Data Comparison between q result and GPU result : True\n",
      "Data Comparison between q result and GPU result : True\n",
      "time cost is \t | q: 300.6666666666667 ms and GPU : 105.15697224934895 ms for row count 7000000\n",
      "Data Comparison between q result and GPU result : True\n",
      "Data Comparison between q result and GPU result : True\n",
      "Data Comparison between q result and GPU result : True\n",
      "time cost is \t | q: 352.6666666666667 ms and GPU : 127.13402557373047 ms for row count 8000000\n",
      "Data Comparison between q result and GPU result : True\n",
      "Data Comparison between q result and GPU result : True\n",
      "Data Comparison between q result and GPU result : True\n",
      "time cost is \t | q: 416.0 ms and GPU : 126.3765640258789 ms for row count 9000000\n",
      "Data Comparison between q result and GPU result : True\n",
      "Data Comparison between q result and GPU result : True\n",
      "Data Comparison between q result and GPU result : True\n",
      "time cost is \t | q: 470.0 ms and GPU : 135.42376708984375 ms for row count 10000000\n",
      "Data Comparison between q result and GPU result : True\n",
      "Data Comparison between q result and GPU result : True\n",
      "Data Comparison between q result and GPU result : True\n",
      "time cost is \t | q: 528.6666666666666 ms and GPU : 158.71197001139322 ms for row count 11000000\n",
      "Data Comparison between q result and GPU result : True\n",
      "Data Comparison between q result and GPU result : True\n",
      "Data Comparison between q result and GPU result : True\n",
      "time cost is \t | q: 577.3333333333334 ms and GPU : 171.06779988606772 ms for row count 12000000\n",
      "Data Comparison between q result and GPU result : True\n",
      "Data Comparison between q result and GPU result : True\n",
      "Data Comparison between q result and GPU result : True\n",
      "time cost is \t | q: 635.3333333333334 ms and GPU : 175.38756815592447 ms for row count 13000000\n",
      "Data Comparison between q result and GPU result : True\n",
      "Data Comparison between q result and GPU result : True\n",
      "Data Comparison between q result and GPU result : True\n",
      "time cost is \t | q: 682.6666666666666 ms and GPU : 188.20258076985678 ms for row count 14000000\n",
      "Data Comparison between q result and GPU result : True\n",
      "Data Comparison between q result and GPU result : True\n",
      "Data Comparison between q result and GPU result : True\n",
      "time cost is \t | q: 732.3333333333334 ms and GPU : 198.83222452799478 ms for row count 15000000\n",
      "Data Comparison between q result and GPU result : True\n",
      "Data Comparison between q result and GPU result : True\n",
      "Data Comparison between q result and GPU result : True\n",
      "time cost is \t | q: 810.0 ms and GPU : 228.67431640625 ms for row count 16000000\n",
      "Data Comparison between q result and GPU result : True\n",
      "Data Comparison between q result and GPU result : True\n",
      "Data Comparison between q result and GPU result : True\n",
      "time cost is \t | q: 880.6666666666666 ms and GPU : 274.6534779866536 ms for row count 17000000\n",
      "Data Comparison between q result and GPU result : True\n",
      "Data Comparison between q result and GPU result : True\n",
      "Data Comparison between q result and GPU result : True\n",
      "time cost is \t | q: 923.6666666666666 ms and GPU : 234.67693074544272 ms for row count 18000000\n",
      "Data Comparison between q result and GPU result : True\n",
      "Data Comparison between q result and GPU result : True\n",
      "Data Comparison between q result and GPU result : True\n",
      "time cost is \t | q: 984.3333333333334 ms and GPU : 256.4933369954427 ms for row count 19000000\n",
      "Data Comparison between q result and GPU result : True\n",
      "Data Comparison between q result and GPU result : True\n",
      "Data Comparison between q result and GPU result : True\n",
      "time cost is \t | q: 1058.3333333333333 ms and GPU : 260.5249532063802 ms for row count 20000000\n",
      "Data Comparison between q result and GPU result : True\n",
      "Data Comparison between q result and GPU result : True\n",
      "Data Comparison between q result and GPU result : True\n",
      "time cost is \t | q: 1124.6666666666667 ms and GPU : 276.2549641927083 ms for row count 21000000\n",
      "Data Comparison between q result and GPU result : True\n",
      "Data Comparison between q result and GPU result : True\n",
      "Data Comparison between q result and GPU result : True\n",
      "time cost is \t | q: 1176.3333333333333 ms and GPU : 296.64320882161456 ms for row count 22000000\n",
      "Data Comparison between q result and GPU result : True\n",
      "Data Comparison between q result and GPU result : True\n",
      "Data Comparison between q result and GPU result : True\n",
      "time cost is \t | q: 1231.0 ms and GPU : 302.0375671386719 ms for row count 23000000\n",
      "Data Comparison between q result and GPU result : True\n",
      "Data Comparison between q result and GPU result : True\n",
      "Data Comparison between q result and GPU result : True\n",
      "time cost is \t | q: 1288.0 ms and GPU : 314.7715148925781 ms for row count 24000000\n",
      "Data Comparison between q result and GPU result : True\n",
      "Data Comparison between q result and GPU result : True\n",
      "Data Comparison between q result and GPU result : True\n",
      "time cost is \t | q: 1352.6666666666667 ms and GPU : 312.5859883626302 ms for row count 25000000\n",
      "Data Comparison between q result and GPU result : True\n",
      "Data Comparison between q result and GPU result : True\n",
      "Data Comparison between q result and GPU result : True\n",
      "time cost is \t | q: 1415.3333333333333 ms and GPU : 342.78989664713544 ms for row count 26000000\n",
      "Data Comparison between q result and GPU result : True\n",
      "Data Comparison between q result and GPU result : True\n",
      "Data Comparison between q result and GPU result : True\n",
      "time cost is \t | q: 1443.0 ms and GPU : 337.5906168619792 ms for row count 27000000\n",
      "Data Comparison between q result and GPU result : True\n",
      "Data Comparison between q result and GPU result : True\n",
      "Data Comparison between q result and GPU result : True\n",
      "time cost is \t | q: 1505.0 ms and GPU : 366.1575927734375 ms for row count 28000000\n",
      "Data Comparison between q result and GPU result : True\n",
      "Data Comparison between q result and GPU result : True\n",
      "Data Comparison between q result and GPU result : True\n",
      "time cost is \t | q: 1586.0 ms and GPU : 367.6564025878906 ms for row count 29000000\n",
      "Data Comparison between q result and GPU result : True\n",
      "Data Comparison between q result and GPU result : True\n",
      "Data Comparison between q result and GPU result : True\n",
      "time cost is \t | q: 1638.6666666666667 ms and GPU : 372.85691324869794 ms for row count 30000000\n",
      "Data Comparison between q result and GPU result : True\n",
      "Data Comparison between q result and GPU result : True\n",
      "Data Comparison between q result and GPU result : True\n",
      "time cost is \t | q: 1696.6666666666667 ms and GPU : 393.8793131510417 ms for row count 31000000\n",
      "Data Comparison between q result and GPU result : True\n",
      "Data Comparison between q result and GPU result : True\n",
      "Data Comparison between q result and GPU result : True\n",
      "time cost is \t | q: 1774.0 ms and GPU : 408.167236328125 ms for row count 32000000\n",
      "Data Comparison between q result and GPU result : True\n",
      "Data Comparison between q result and GPU result : True\n",
      "Data Comparison between q result and GPU result : True\n",
      "time cost is \t | q: 1823.6666666666667 ms and GPU : 422.1842753092448 ms for row count 33000000\n",
      "Data Comparison between q result and GPU result : True\n",
      "Data Comparison between q result and GPU result : True\n",
      "Data Comparison between q result and GPU result : True\n",
      "time cost is \t | q: 1928.3333333333333 ms and GPU : 516.4660135904948 ms for row count 34000000\n",
      "Data Comparison between q result and GPU result : True\n",
      "Data Comparison between q result and GPU result : True\n",
      "Data Comparison between q result and GPU result : True\n",
      "time cost is \t | q: 2011.0 ms and GPU : 443.84906005859375 ms for row count 35000000\n",
      "Data Comparison between q result and GPU result : True\n",
      "Data Comparison between q result and GPU result : True\n",
      "Data Comparison between q result and GPU result : True\n",
      "time cost is \t | q: 2076.0 ms and GPU : 457.0044453938802 ms for row count 36000000\n",
      "Data Comparison between q result and GPU result : True\n",
      "Data Comparison between q result and GPU result : True\n",
      "Data Comparison between q result and GPU result : True\n",
      "time cost is \t | q: 2118.6666666666665 ms and GPU : 477.8299967447917 ms for row count 37000000\n",
      "Data Comparison between q result and GPU result : True\n",
      "Data Comparison between q result and GPU result : True\n",
      "Data Comparison between q result and GPU result : True\n",
      "time cost is \t | q: 2189.6666666666665 ms and GPU : 478.48484293619794 ms for row count 38000000\n",
      "Data Comparison between q result and GPU result : True\n",
      "Data Comparison between q result and GPU result : True\n",
      "Data Comparison between q result and GPU result : True\n",
      "time cost is \t | q: 2234.6666666666665 ms and GPU : 484.92577107747394 ms for row count 39000000\n",
      "Data Comparison between q result and GPU result : True\n",
      "Data Comparison between q result and GPU result : True\n",
      "Data Comparison between q result and GPU result : True\n",
      "time cost is \t | q: 2305.6666666666665 ms and GPU : 503.9379577636719 ms for row count 40000000\n",
      "Data Comparison between q result and GPU result : True\n",
      "Data Comparison between q result and GPU result : True\n",
      "Data Comparison between q result and GPU result : True\n",
      "time cost is \t | q: 2354.6666666666665 ms and GPU : 525.2845560709635 ms for row count 41000000\n",
      "Data Comparison between q result and GPU result : True\n",
      "Data Comparison between q result and GPU result : True\n",
      "Data Comparison between q result and GPU result : True\n",
      "time cost is \t | q: 2414.3333333333335 ms and GPU : 531.8762003580729 ms for row count 42000000\n",
      "Data Comparison between q result and GPU result : True\n",
      "Data Comparison between q result and GPU result : True\n",
      "Data Comparison between q result and GPU result : True\n",
      "time cost is \t | q: 2500.6666666666665 ms and GPU : 539.8833618164062 ms for row count 43000000\n",
      "Data Comparison between q result and GPU result : True\n",
      "Data Comparison between q result and GPU result : True\n",
      "Data Comparison between q result and GPU result : True\n",
      "time cost is \t | q: 2561.3333333333335 ms and GPU : 545.8375651041666 ms for row count 44000000\n",
      "Data Comparison between q result and GPU result : True\n",
      "Data Comparison between q result and GPU result : True\n",
      "Data Comparison between q result and GPU result : True\n",
      "time cost is \t | q: 2601.3333333333335 ms and GPU : 573.9043172200521 ms for row count 45000000\n",
      "Data Comparison between q result and GPU result : True\n",
      "Data Comparison between q result and GPU result : True\n",
      "Data Comparison between q result and GPU result : True\n",
      "time cost is \t | q: 2668.0 ms and GPU : 571.8596801757812 ms for row count 46000000\n",
      "Data Comparison between q result and GPU result : True\n",
      "Data Comparison between q result and GPU result : True\n",
      "Data Comparison between q result and GPU result : True\n",
      "time cost is \t | q: 2719.0 ms and GPU : 594.0962117513021 ms for row count 47000000\n",
      "Data Comparison between q result and GPU result : True\n",
      "Data Comparison between q result and GPU result : True\n",
      "Data Comparison between q result and GPU result : True\n",
      "time cost is \t | q: 2787.3333333333335 ms and GPU : 615.552001953125 ms for row count 48000000\n",
      "Data Comparison between q result and GPU result : True\n",
      "Data Comparison between q result and GPU result : True\n",
      "Data Comparison between q result and GPU result : True\n",
      "time cost is \t | q: 2857.6666666666665 ms and GPU : 610.9927978515625 ms for row count 49000000\n",
      "Data Comparison between q result and GPU result : True\n",
      "Data Comparison between q result and GPU result : True\n",
      "Data Comparison between q result and GPU result : True\n",
      "time cost is \t | q: 2901.6666666666665 ms and GPU : 623.8211059570312 ms for row count 50000000\n",
      "Data Comparison between q result and GPU result : True\n",
      "Data Comparison between q result and GPU result : True\n",
      "Data Comparison between q result and GPU result : True\n",
      "time cost is \t | q: 2993.3333333333335 ms and GPU : 647.110107421875 ms for row count 51000000\n",
      "Data Comparison between q result and GPU result : True\n",
      "Data Comparison between q result and GPU result : True\n",
      "Data Comparison between q result and GPU result : True\n",
      "time cost is \t | q: 3079.6666666666665 ms and GPU : 655.7306925455729 ms for row count 52000000\n",
      "Data Comparison between q result and GPU result : True\n",
      "Data Comparison between q result and GPU result : True\n",
      "Data Comparison between q result and GPU result : True\n",
      "time cost is \t | q: 3135.0 ms and GPU : 675.177001953125 ms for row count 53000000\n",
      "Data Comparison between q result and GPU result : True\n",
      "Data Comparison between q result and GPU result : True\n",
      "Data Comparison between q result and GPU result : True\n",
      "time cost is \t | q: 3098.0 ms and GPU : 683.7744547526041 ms for row count 54000000\n",
      "Data Comparison between q result and GPU result : True\n",
      "Data Comparison between q result and GPU result : True\n",
      "Data Comparison between q result and GPU result : True\n",
      "time cost is \t | q: 3168.0 ms and GPU : 673.8348185221354 ms for row count 55000000\n",
      "Data Comparison between q result and GPU result : True\n",
      "Data Comparison between q result and GPU result : True\n",
      "Data Comparison between q result and GPU result : True\n",
      "time cost is \t | q: 3256.0 ms and GPU : 706.9171956380209 ms for row count 56000000\n",
      "Data Comparison between q result and GPU result : True\n",
      "Data Comparison between q result and GPU result : True\n",
      "Data Comparison between q result and GPU result : True\n",
      "time cost is \t | q: 3291.0 ms and GPU : 711.6176147460938 ms for row count 57000000\n",
      "Data Comparison between q result and GPU result : True\n",
      "Data Comparison between q result and GPU result : True\n",
      "Data Comparison between q result and GPU result : True\n",
      "time cost is \t | q: 3385.3333333333335 ms and GPU : 724.9543660481771 ms for row count 58000000\n",
      "Data Comparison between q result and GPU result : True\n",
      "Data Comparison between q result and GPU result : True\n",
      "Data Comparison between q result and GPU result : True\n",
      "time cost is \t | q: 3406.3333333333335 ms and GPU : 739.0235799153646 ms for row count 59000000\n",
      "Data Comparison between q result and GPU result : True\n",
      "Data Comparison between q result and GPU result : True\n",
      "Data Comparison between q result and GPU result : True\n",
      "time cost is \t | q: 3492.0 ms and GPU : 744.5238037109375 ms for row count 60000000\n",
      "Data Comparison between q result and GPU result : True\n",
      "Data Comparison between q result and GPU result : True\n",
      "Data Comparison between q result and GPU result : True\n",
      "time cost is \t | q: 3504.3333333333335 ms and GPU : 743.5487263997396 ms for row count 61000000\n",
      "Data Comparison between q result and GPU result : True\n",
      "Data Comparison between q result and GPU result : True\n",
      "Data Comparison between q result and GPU result : True\n",
      "time cost is \t | q: 3581.0 ms and GPU : 748.6369832356771 ms for row count 62000000\n",
      "Data Comparison between q result and GPU result : True\n",
      "Data Comparison between q result and GPU result : True\n",
      "Data Comparison between q result and GPU result : True\n",
      "time cost is \t | q: 3651.0 ms and GPU : 766.1845499674479 ms for row count 63000000\n",
      "Data Comparison between q result and GPU result : True\n",
      "Data Comparison between q result and GPU result : True\n",
      "Data Comparison between q result and GPU result : True\n",
      "time cost is \t | q: 3670.6666666666665 ms and GPU : 784.8778483072916 ms for row count 64000000\n",
      "Data Comparison between q result and GPU result : True\n",
      "Data Comparison between q result and GPU result : True\n",
      "Data Comparison between q result and GPU result : True\n",
      "time cost is \t | q: 3755.3333333333335 ms and GPU : 831.3179117838541 ms for row count 65000000\n",
      "Data Comparison between q result and GPU result : True\n",
      "Data Comparison between q result and GPU result : True\n",
      "Data Comparison between q result and GPU result : True\n",
      "time cost is \t | q: 3838.3333333333335 ms and GPU : 836.8367106119791 ms for row count 66000000\n",
      "Data Comparison between q result and GPU result : True\n",
      "Data Comparison between q result and GPU result : True\n",
      "Data Comparison between q result and GPU result : True\n",
      "time cost is \t | q: 3915.0 ms and GPU : 816.6009114583334 ms for row count 67000000\n",
      "Data Comparison between q result and GPU result : True\n",
      "Data Comparison between q result and GPU result : True\n",
      "Data Comparison between q result and GPU result : True\n",
      "time cost is \t | q: 4063.6666666666665 ms and GPU : 1025.2152506510417 ms for row count 68000000\n",
      "Data Comparison between q result and GPU result : True\n",
      "Data Comparison between q result and GPU result : True\n",
      "Data Comparison between q result and GPU result : True\n",
      "time cost is \t | q: 4097.0 ms and GPU : 844.4833374023438 ms for row count 69000000\n",
      "Data Comparison between q result and GPU result : True\n",
      "Data Comparison between q result and GPU result : True\n",
      "Data Comparison between q result and GPU result : True\n",
      "time cost is \t | q: 4206.0 ms and GPU : 878.7183024088541 ms for row count 70000000\n",
      "Data Comparison between q result and GPU result : True\n",
      "Data Comparison between q result and GPU result : True\n",
      "Data Comparison between q result and GPU result : True\n",
      "time cost is \t | q: 4236.333333333333 ms and GPU : 883.5853474934896 ms for row count 71000000\n",
      "Data Comparison between q result and GPU result : True\n",
      "Data Comparison between q result and GPU result : True\n",
      "Data Comparison between q result and GPU result : True\n",
      "time cost is \t | q: 4313.666666666667 ms and GPU : 875.5431518554688 ms for row count 72000000\n",
      "Data Comparison between q result and GPU result : True\n",
      "Data Comparison between q result and GPU result : True\n",
      "Data Comparison between q result and GPU result : True\n",
      "time cost is \t | q: 4377.666666666667 ms and GPU : 947.8330688476562 ms for row count 73000000\n",
      "Data Comparison between q result and GPU result : True\n",
      "Data Comparison between q result and GPU result : True\n",
      "Data Comparison between q result and GPU result : True\n",
      "time cost is \t | q: 4407.333333333333 ms and GPU : 955.6563517252604 ms for row count 74000000\n",
      "Data Comparison between q result and GPU result : True\n",
      "Data Comparison between q result and GPU result : True\n",
      "Data Comparison between q result and GPU result : True\n",
      "time cost is \t | q: 4483.666666666667 ms and GPU : 934.7717692057291 ms for row count 75000000\n",
      "Data Comparison between q result and GPU result : True\n",
      "Data Comparison between q result and GPU result : True\n",
      "Data Comparison between q result and GPU result : True\n",
      "time cost is \t | q: 4529.0 ms and GPU : 920.9496053059896 ms for row count 76000000\n",
      "Data Comparison between q result and GPU result : True\n",
      "Data Comparison between q result and GPU result : True\n",
      "Data Comparison between q result and GPU result : True\n",
      "time cost is \t | q: 4610.0 ms and GPU : 947.0051879882812 ms for row count 77000000\n",
      "Data Comparison between q result and GPU result : True\n",
      "Data Comparison between q result and GPU result : True\n",
      "Data Comparison between q result and GPU result : True\n",
      "time cost is \t | q: 4688.0 ms and GPU : 946.5550944010416 ms for row count 78000000\n",
      "Data Comparison between q result and GPU result : True\n",
      "Data Comparison between q result and GPU result : True\n",
      "Data Comparison between q result and GPU result : True\n",
      "time cost is \t | q: 4721.0 ms and GPU : 992.0397135416666 ms for row count 79000000\n",
      "Data Comparison between q result and GPU result : True\n",
      "Data Comparison between q result and GPU result : True\n",
      "Data Comparison between q result and GPU result : True\n",
      "time cost is \t | q: 4807.666666666667 ms and GPU : 987.1364339192709 ms for row count 80000000\n",
      "Data Comparison between q result and GPU result : True\n",
      "Data Comparison between q result and GPU result : True\n",
      "Data Comparison between q result and GPU result : True\n",
      "time cost is \t | q: 4896.0 ms and GPU : 1007.981201171875 ms for row count 81000000\n",
      "Data Comparison between q result and GPU result : True\n",
      "Data Comparison between q result and GPU result : True\n",
      "Data Comparison between q result and GPU result : True\n",
      "time cost is \t | q: 4938.333333333333 ms and GPU : 999.4112955729166 ms for row count 82000000\n",
      "Data Comparison between q result and GPU result : True\n",
      "Data Comparison between q result and GPU result : True\n",
      "Data Comparison between q result and GPU result : True\n",
      "time cost is \t | q: 4969.0 ms and GPU : 1013.9935709635416 ms for row count 83000000\n",
      "Data Comparison between q result and GPU result : True\n",
      "Data Comparison between q result and GPU result : True\n",
      "Data Comparison between q result and GPU result : True\n",
      "time cost is \t | q: 5069.666666666667 ms and GPU : 1042.7051188151042 ms for row count 84000000\n",
      "Data Comparison between q result and GPU result : True\n",
      "Data Comparison between q result and GPU result : True\n",
      "Data Comparison between q result and GPU result : True\n",
      "time cost is \t | q: 5150.333333333333 ms and GPU : 1075.0666097005208 ms for row count 85000000\n",
      "Data Comparison between q result and GPU result : True\n",
      "Data Comparison between q result and GPU result : True\n",
      "Data Comparison between q result and GPU result : True\n",
      "time cost is \t | q: 5192.0 ms and GPU : 1048.4410400390625 ms for row count 86000000\n",
      "Data Comparison between q result and GPU result : True\n",
      "Data Comparison between q result and GPU result : True\n",
      "Data Comparison between q result and GPU result : True\n",
      "time cost is \t | q: 5255.333333333333 ms and GPU : 1050.5862630208333 ms for row count 87000000\n",
      "Data Comparison between q result and GPU result : True\n",
      "Data Comparison between q result and GPU result : True\n",
      "Data Comparison between q result and GPU result : True\n",
      "time cost is \t | q: 5314.333333333333 ms and GPU : 1067.6621500651042 ms for row count 88000000\n",
      "Data Comparison between q result and GPU result : True\n",
      "Data Comparison between q result and GPU result : True\n",
      "Data Comparison between q result and GPU result : True\n",
      "time cost is \t | q: 5409.666666666667 ms and GPU : 1089.4863688151042 ms for row count 89000000\n",
      "Data Comparison between q result and GPU result : True\n",
      "Data Comparison between q result and GPU result : True\n",
      "Data Comparison between q result and GPU result : True\n",
      "time cost is \t | q: 5448.333333333333 ms and GPU : 1120.9598795572917 ms for row count 90000000\n",
      "Data Comparison between q result and GPU result : True\n",
      "Data Comparison between q result and GPU result : True\n",
      "Data Comparison between q result and GPU result : True\n",
      "time cost is \t | q: 5511.0 ms and GPU : 1103.2239583333333 ms for row count 91000000\n",
      "Data Comparison between q result and GPU result : True\n",
      "Data Comparison between q result and GPU result : True\n",
      "Data Comparison between q result and GPU result : True\n",
      "time cost is \t | q: 5552.666666666667 ms and GPU : 1126.5111490885417 ms for row count 92000000\n",
      "Data Comparison between q result and GPU result : True\n",
      "Data Comparison between q result and GPU result : True\n",
      "Data Comparison between q result and GPU result : True\n",
      "time cost is \t | q: 5567.333333333333 ms and GPU : 1120.277099609375 ms for row count 93000000\n",
      "Data Comparison between q result and GPU result : True\n",
      "Data Comparison between q result and GPU result : True\n",
      "Data Comparison between q result and GPU result : True\n",
      "time cost is \t | q: 5674.0 ms and GPU : 1164.9447835286458 ms for row count 94000000\n",
      "Data Comparison between q result and GPU result : True\n",
      "Data Comparison between q result and GPU result : True\n",
      "Data Comparison between q result and GPU result : True\n",
      "time cost is \t | q: 5781.0 ms and GPU : 1178.3329671223958 ms for row count 95000000\n",
      "Data Comparison between q result and GPU result : True\n",
      "Data Comparison between q result and GPU result : True\n",
      "Data Comparison between q result and GPU result : True\n",
      "time cost is \t | q: 5774.666666666667 ms and GPU : 1179.0272216796875 ms for row count 96000000\n",
      "Data Comparison between q result and GPU result : True\n",
      "Data Comparison between q result and GPU result : True\n",
      "Data Comparison between q result and GPU result : True\n",
      "time cost is \t | q: 5898.0 ms and GPU : 1170.4574788411458 ms for row count 97000000\n",
      "Data Comparison between q result and GPU result : True\n",
      "Data Comparison between q result and GPU result : True\n",
      "Data Comparison between q result and GPU result : True\n",
      "time cost is \t | q: 5955.666666666667 ms and GPU : 1187.8358561197917 ms for row count 98000000\n",
      "Data Comparison between q result and GPU result : True\n",
      "Data Comparison between q result and GPU result : True\n",
      "Data Comparison between q result and GPU result : True\n",
      "time cost is \t | q: 6013.666666666667 ms and GPU : 1223.1474609375 ms for row count 99000000\n"
     ]
    }
   ],
   "source": [
    "# initialize result cache for both methods\n",
    "keys = ['cnt','ts']\n",
    "qdict = {key: [] for key in keys}   # q result cache\n",
    "gdict = {key: [] for key in keys}   # gpu result cache\n",
    "result_validation = []              # result validation cache\n",
    "\n",
    "test_n = [i for i in range(0, 101_000_000, 1000000)]         # from 0 rows to 100M rows, with step of 1MM\n",
    "for n in test_n:\n",
    "    qt1, gt1, rv1 = benchmark(n)                             # collect 3 runs for every data size, take average to avoid outliers\n",
    "    qt2, gt2, rv2 = benchmark(n)\n",
    "    qt3, gt3, rv3 = benchmark(n)\n",
    "    qts = np.mean([qt1, qt2, qt3])                           # get average time cost\n",
    "    gts = np.mean([gt1, gt2, gt3])\n",
    "    rv = all((rv1, rv2, rv3))                                # confirm all 3 results match\n",
    "    print(f\"time cost is \\t | q: {qts} ms and GPU : {gts} ms for row count {n}\")\n",
    "    qdict['cnt'].append(n)    \n",
    "    qdict['ts'].append(qts)\n",
    "    gdict['ts'].append(gts)\n",
    "    result_validation.append(rv)"
   ]
  },
  {
   "cell_type": "markdown",
   "metadata": {},
   "source": [
    "#### 3.3 Verify that all results match\n",
    "\n",
    "All results generated in every benchmark round should match"
   ]
  },
  {
   "cell_type": "code",
   "execution_count": 10,
   "metadata": {},
   "outputs": [
    {
     "name": "stdout",
     "output_type": "stream",
     "text": [
      "All results for all data sizes match : True\n"
     ]
    }
   ],
   "source": [
    "print(f'All results for all data sizes match : {all(result_validation)}')"
   ]
  },
  {
   "cell_type": "markdown",
   "metadata": {},
   "source": [
    "## 4. Hardware/System Statistics for 100M Rows during benchmark"
   ]
  },
  {
   "cell_type": "markdown",
   "metadata": {},
   "source": [
    "#### 4.1 Run one benchmark on 100M rows"
   ]
  },
  {
   "cell_type": "code",
   "execution_count": null,
   "metadata": {},
   "outputs": [
    {
     "name": "stdout",
     "output_type": "stream",
     "text": [
      "Data Comparison between q result and GPU result : True\n"
     ]
    },
    {
     "data": {
      "text/plain": [
       "(6073, 1220.092529296875, True)"
      ]
     },
     "metadata": {},
     "output_type": "display_data"
    }
   ],
   "source": [
    "# run benchmark\n",
    "benchmark(100000000)"
   ]
  },
  {
   "cell_type": "markdown",
   "metadata": {},
   "source": [
    "#### 4.2 Retrieve q heap info"
   ]
  },
  {
   "cell_type": "code",
   "execution_count": null,
   "metadata": {},
   "outputs": [
    {
     "data": {
      "text/html": [
       "<table border=\"1\" class=\"dataframe\">\n",
       "  <thead>\n",
       "    <tr style=\"text-align: right;\">\n",
       "      <th></th>\n",
       "      <th></th>\n",
       "    </tr>\n",
       "    <tr>\n",
       "      <th></th>\n",
       "      <th></th>\n",
       "    </tr>\n",
       "  </thead>\n",
       "  <tbody>\n",
       "    <tr>\n",
       "      <th>used</th>\n",
       "      <td>3.223299</td>\n",
       "    </tr>\n",
       "    <tr>\n",
       "      <th>heap</th>\n",
       "      <td>7.583302</td>\n",
       "    </tr>\n",
       "    <tr>\n",
       "      <th>peak</th>\n",
       "      <td>7.583302</td>\n",
       "    </tr>\n",
       "    <tr>\n",
       "      <th>wmax</th>\n",
       "      <td>0f</td>\n",
       "    </tr>\n",
       "    <tr>\n",
       "      <th>mmap</th>\n",
       "      <td>0f</td>\n",
       "    </tr>\n",
       "    <tr>\n",
       "      <th>mphy</th>\n",
       "      <td>33.56764</td>\n",
       "    </tr>\n",
       "    <tr>\n",
       "      <th>syms</th>\n",
       "      <td>3.496e-06</td>\n",
       "    </tr>\n",
       "    <tr>\n",
       "      <th>symw</th>\n",
       "      <td>0.000181422</td>\n",
       "    </tr>\n",
       "  </tbody>\n",
       "</table>"
      ],
      "text/plain": [
       "pykx.Dictionary(pykx.q('\n",
       "used| 3.223299\n",
       "heap| 7.583302\n",
       "peak| 7.583302\n",
       "wmax| 0\n",
       "mmap| 0\n",
       "mphy| 33.56764\n",
       "syms| 3.496e-06\n",
       "symw| 0.000181422\n",
       "'))"
      ]
     },
     "metadata": {},
     "output_type": "display_data"
    }
   ],
   "source": [
    "# retrieve q session memory info\n",
    "kx.q('.Q.w[]%1e9')"
   ]
  },
  {
   "cell_type": "markdown",
   "metadata": {},
   "source": [
    "#### 4.3 General system properties during benchmark\n",
    "The system's statistics are as following:\n",
    "\n",
    "RAM usage      :  16GB\n",
    "\n",
    "GPU VRAM usage :  2.5GB\n",
    "\n",
    "q mem usage    :  3.2GB\n",
    "\n",
    "q heap size    :  7.6GB"
   ]
  },
  {
   "cell_type": "markdown",
   "metadata": {},
   "source": [
    "## 5. Illustration of performance of q process on CPU, and GPU CUDA\n",
    "The results of time cost of the queries are plotted using matplotlib as below.\n",
    "\n",
    "#### 5.1 Time vs Size\n",
    "x-axis shows the table size in millions (MM)\n",
    "\n",
    "y-axis shows the 'select-by' query time in ms"
   ]
  },
  {
   "cell_type": "code",
   "execution_count": 11,
   "metadata": {
    "jupyter": {
     "source_hidden": true
    }
   },
   "outputs": [
    {
     "data": {
      "image/png": "[encoded data removed]",
      "text/plain": [
       "<Figure size 640x480 with 1 Axes>"
      ]
     },
     "metadata": {},
     "output_type": "display_data"
    }
   ],
   "source": [
    "from matplotlib.ticker import FuncFormatter\n",
    "\n",
    "# Plot\n",
    "plt.plot(qdict['cnt'], qdict['ts'], label='q time', color='#003f5c')\n",
    "plt.plot(qdict['cnt'], gdict['ts'], label='gpu time', color='#2ca02c')\n",
    "\n",
    "# Format x-axis to show in K\n",
    "formatter = FuncFormatter(lambda x_val, _: f'{x_val/1000000:.0f}M')\n",
    "plt.gca().xaxis.set_major_formatter(formatter)\n",
    "\n",
    "# Labels and title\n",
    "plt.xlabel('Data size (MM)')  # or any label for x\n",
    "plt.ylabel('Time (ms)')\n",
    "plt.title('Comparison of q and GPU times')\n",
    "plt.legend()\n",
    "plt.grid(True)\n",
    "\n",
    "# Show the plot\n",
    "plt.show()"
   ]
  },
  {
   "cell_type": "markdown",
   "metadata": {},
   "source": [
    "#### 5.2 Relative performance by size"
   ]
  },
  {
   "cell_type": "markdown",
   "metadata": {},
   "source": [
    "We also draw a bar chart showing the time performance comparison in percentage (%) at each millions of rows\n",
    "\n",
    "x-axis shows the number of rows in millions (MM)\n",
    "\n",
    "y-axis shows the 'select-by' query time in ms\n",
    "\n",
    "% number on the green bar shows the relative time cost comparing to the q process (blue bar)"
   ]
  },
  {
   "cell_type": "code",
   "execution_count": 12,
   "metadata": {
    "jupyter": {
     "source_hidden": true
    }
   },
   "outputs": [
    {
     "name": "stdout",
     "output_type": "stream",
     "text": [
      "10\n"
     ]
    },
    {
     "data": {
      "image/png": "[encoded data removed]",
      "text/plain": [
       "<Figure size 1000x600 with 1 Axes>"
      ]
     },
     "metadata": {},
     "output_type": "display_data"
    }
   ],
   "source": [
    "import matplotlib.pyplot as plt\n",
    "import numpy as np\n",
    "from matplotlib.ticker import FuncFormatter\n",
    "\n",
    "x = qdict['cnt']\n",
    "\n",
    "# === CONFIG ===\n",
    "offset = 1_0000_000\n",
    "threshold_step = 1_0000_000\n",
    "max_x_val = max(x)\n",
    "target_xs = list(range(offset, max_x_val + 1, threshold_step))\n",
    "print(len(target_xs))\n",
    "# Map x to index\n",
    "x_index_map = {val: idx for idx, val in enumerate(x)}\n",
    "\n",
    "# Gather data\n",
    "bar_x = []\n",
    "q_vals = []\n",
    "g_vals = []\n",
    "pct_labels = []\n",
    "\n",
    "for tx in target_xs:\n",
    "    if tx in x_index_map:\n",
    "        i = x_index_map[tx]\n",
    "        qt = qdict['ts'][i]\n",
    "        gt = gdict['ts'][i]\n",
    "        if qt > 0:\n",
    "            bar_x.append(tx)\n",
    "            q_vals.append(qt)\n",
    "            g_vals.append(gt)\n",
    "            pct = 100 * gt / qt\n",
    "            pct_labels.append(f'{pct:.1f}%')\n",
    "        else:\n",
    "            # If qt == 0, avoid division by zero\n",
    "            bar_x.append(tx)\n",
    "            q_vals.append(qt)\n",
    "            g_vals.append(gt)\n",
    "            pct_labels.append('N/A')\n",
    "\n",
    "# Plotting\n",
    "bar_width = threshold_step * 0.3\n",
    "x_vals = np.array(bar_x)\n",
    "\n",
    "fig, ax = plt.subplots(figsize=(10, 6))\n",
    "\n",
    "bars_q = ax.bar(x_vals - bar_width/2, q_vals, width=bar_width, label='q time', color='#003f5c')  # deep blue\n",
    "bars_g = ax.bar(x_vals + bar_width/2, g_vals, width=bar_width, label='gpu time', color='#2ca02c')  # vibrant green\n",
    "\n",
    "# Format x-axis to show in millions\n",
    "ax.xaxis.set_major_formatter(FuncFormatter(lambda x, _: f'{(x - offset + threshold_step) / 1_000_000:.2f}M'))\n",
    "\n",
    "# Add % labels on top of gdict bars\n",
    "for bar, label in zip(bars_g, pct_labels):\n",
    "    ax.text(bar.get_x() + bar.get_width() * 1, bar.get_height() + max(q_vals) * 0.01,\n",
    "            label, ha='center', va='bottom', fontsize=8, rotation=0, color='black')\n",
    "\n",
    "# Labels and layout\n",
    "ax.set_xlabel('Data size (MM)')\n",
    "ax.set_ylabel('Time (ms)')\n",
    "ax.set_title('q vs GPU Actual Time with % annotated')\n",
    "ax.legend()\n",
    "ax.grid(axis='y')\n",
    "\n",
    "plt.tight_layout()\n",
    "plt.show()\n"
   ]
  },
  {
   "cell_type": "markdown",
   "metadata": {},
   "source": [
    "## 6. Analysis"
   ]
  },
  {
   "cell_type": "markdown",
   "metadata": {
    "jp-MarkdownHeadingCollapsed": true
   },
   "source": [
    "The results and charts show that even with data transfer overhead through the pipeline ( pykx.q() -> CPU pandas dataframe -> GPU cuda dataframe -> CPU pandas dataframe ), GPU can deliever over **5x** the performance as CPU due to the overwhelming advantage of number of cores when it comes to parallelized data processing.\n",
    "\n",
    "Both the CPU and GPU performances have linear relationship with the data size while GPU performance is affected by a much smaller factor.\n",
    "\n",
    "100M rows of data seems to be using reasonable memory either in RAM or GPU, however, there's a large overhead between real data size and the heap that python requires during object conversion between the q session and pandas/cuda. At 100M rows, the real q data size is 3GB but python requires 16GB of RAM to hold the data in pandas, which suggest an inefficiency of interation between q and python.\n",
    "\n",
    "#### 6.1 Conclusion\n",
    "While memory size is within the limit, it might be worth while to consider leveraging GPU to speed up certain data queries that are relatively slow in q with the help of pykx's API to convert objects between q and python."
   ]
  },
  {
   "cell_type": "markdown",
   "metadata": {},
   "source": [
    "#### 6.2 Limitations and Improvements"
   ]
  },
  {
   "cell_type": "markdown",
   "metadata": {},
   "source": [
    "#### 6.2.1 Limiation of memory usage \n",
    "The PC system used in this test has 32GB of RAM limitations and 16GB of GPU VRAM limitations which blocks us from testing higher volumne of data no more than 150M rows so that we are not able to simulate the situation where GPU VRAM is not enough to process the data while CPU RAM can, which can be a key decision factor for certain usages with large data.\n",
    "\n",
    "Large data volumes might also demonstrate higher overhead of data transfer cost between CPU and GPU which decreases GPU performance.\n",
    "\n",
    "Modern GPU's VRAM capacity is much lower than RAM capacity even in the enterprise domain, and at much higher cost, this leads to trade-offs when choosing between the solutions."
   ]
  },
  {
   "cell_type": "markdown",
   "metadata": {},
   "source": [
    "#### 6.2.2 Complexity of query\n",
    "'select-by' is a basic query in real world usecases. kdb+/q supports queries with much higher complexity, whether those can be achieved using python/CUDA dataframe are yet to be learned and tested"
   ]
  },
  {
   "cell_type": "markdown",
   "metadata": {},
   "source": [
    "#### 6.2.3 Higher end CPU and GPU to be tested\n",
    "There might be a hardware discrepancy between the CPU performance and GPU in this test. Higher end CPUs might deliever comparable results."
   ]
  },
  {
   "cell_type": "markdown",
   "metadata": {},
   "source": [
    "## 7. Appendix Material"
   ]
  },
  {
   "cell_type": "markdown",
   "metadata": {},
   "source": [
    "#### To avoid kdb+/q performance bias between pykx's embedded q session and the native q session from l64/q binary, we did a comparison between the two using data size of 100M"
   ]
  },
  {
   "cell_type": "markdown",
   "metadata": {},
   "source": [
    "We started a native q session in linux terminal with '-s 24' to be consistent with the test configuration.\n",
    "\n",
    "'select-by' was run on a table with 100M rows and time-space complexity are matching the benchmark result at the same data size."
   ]
  },
  {
   "cell_type": "code",
   "execution_count": null,
   "metadata": {},
   "outputs": [],
   "source": [
    "KDB+ 4.1 2025.02.18 Copyright (C) 1993-2025 Kx Systems\n",
    "l64/ 24(24)core 32012MB hyin hyin-desktop 127.0.1.1 EXPIRE 2026.03.25 yxcntu@gmail.com KDB PLUS PERSONAL #5025134\n",
    "q)x:100000000;d:([]id:x?x;nid:x?x)\n",
    "q)\\ts select by nid from d\n",
    "6089 3221226288     / time cost 6000ms is similar to benchmark\n",
    "q)\\s                / confirm threads count\n",
    "24i\n",
    "q)3221226288%1e9    / convert mem usage to GB\n",
    "3.221226\n",
    "q)\n"
   ]
  },
  {
   "cell_type": "markdown",
   "metadata": {},
   "source": [
    "## Reference\n",
    "1. https://code.kx.com/pykx/3.1/index.html\n",
    "2. https://docs.cupy.dev/en/stable/user_guide/performance.html\n",
    "3. https://github.com/rapidsai/cudf\n",
    "4. https://www.techpowerup.com/cpu-specs/ryzen-9-5900x.c2363\n",
    "5. https://www.techpowerup.com/gpu-specs/geforce-rtx-4060-ti-16-gb.c4155\n",
    "6. https://en.wikipedia.org/wiki/CUDA\n"
   ]
  },
  {
   "cell_type": "code",
   "execution_count": null,
   "metadata": {},
   "outputs": [],
   "source": []
  }
 ],
 "metadata": {
  "kernelspec": {
   "display_name": "Python 3 (ipykernel)",
   "language": "python",
   "name": "python3"
  },
  "language_info": {
   "codemirror_mode": {
    "name": "ipython",
    "version": 3
   },
   "file_extension": ".py",
   "mimetype": "text/x-python",
   "name": "python",
   "nbconvert_exporter": "python",
   "pygments_lexer": "ipython3",
   "version": "3.10.12"
  }
 },
 "nbformat": 4,
 "nbformat_minor": 4
}
