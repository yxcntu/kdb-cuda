{
 "cells": [
  {
   "cell_type": "markdown",
   "metadata": {},
   "source": [
    "# A naive comparison of performance between kdb+/q and GPU"
   ]
  },
  {
   "cell_type": "markdown",
   "metadata": {},
   "source": [
    "## 1. Introduction"
   ]
  },
  {
   "cell_type": "markdown",
   "metadata": {},
   "source": [
    "'Select-By' is a basic database query commonly used on tables to get the last value by a certain column name(s) as known as the key column. kdb+/q is well-known for its strong performance on columnar tables and fast speed on grouping data by key column(s). Especially with the nature of in-memory processing, it can leverage the high speed RAM and high CPU clock freuqencies to achieve results in lightening speed.\n",
    "\n",
    "GPU is the top popular hardware that is being discussed all over the world, mostly famous for its supreme power on AI performance. Nvidia's CUDA technology specifically excels in this domain due to its extremem parallel processing capabilities built on thousands of GPU cores (CUDA). It also provides significant advantage on parallelizing database queries such as grouping and aggregation.\n",
    "\n",
    "In this notebook, we will be exploring the performances of CPU bound 'select-by' performance, and the GPU bound performance, using a consumer grade hardware, to have an idea of how fast each of them are processing."
   ]
  },
  {
   "cell_type": "raw",
   "metadata": {},
   "source": [
    "System Specifications for this test:\n",
    "\n",
    "CPU                : AMD Ryzen 9 5900X ( 12 core / 24 threads, 3.7GHz / 4.8GHz )\n",
    "RAM                : 32GB 3600MHz\n",
    "GPU                : NVIDIA GeForce RTX 4060 Ti 16 GB  ( 4352 core, 6GB VRAM, Bandwidth 288.0 GB/s)\n",
    "GPU Driver Version : 550.120        CUDA Version: 12.4\n",
    "OS                 : Ubuntu 22.04.4 LTS"
   ]
  },
  {
   "cell_type": "raw",
   "metadata": {
    "vscode": {
     "languageId": "raw"
    }
   },
   "source": [
    "Software and Libraries:\n",
    "\n",
    "pykx (personal edition)   -  q code evaluation and conversion to pandas dataframe   (https://code.kx.com/pykx/3.1/index.html)\n",
    "pandas                    -  store pykx objects and conversion to pandas dataframe\n",
    "cuDF                      -  cuda support for dataframe queries                     (https://github.com/rapidsai/cudf)\n",
    "CuPy                      -  cuda execution time profiling                          (https://github.com/cupy/cupy)\n",
    "matplotlib                -  result illustration"
   ]
  },
  {
   "cell_type": "markdown",
   "metadata": {},
   "source": [
    "*All code in this notebook are in python"
   ]
  },
  {
   "cell_type": "markdown",
   "metadata": {},
   "source": [
    "## 2. Proof of Concept\n",
    "We want to use a quick demo to verify that the test plan is workable.\n",
    "\n",
    "1. Prepare a small table in kx.q to run 'select by' query\n",
    "2. Run kx.q(query) to get the result on q process and bring the result back to python and store as pandas dataframe\n",
    "3. Run cudf to get the result on gpu and bring back to python and store as pandas dataframe\n",
    "4. Use pandas comparison features to verify the results"
   ]
  },
  {
   "cell_type": "code",
   "execution_count": 3,
   "metadata": {},
   "outputs": [],
   "source": [
    "import pykx as kx\n",
    "import pandas as pd\n",
    "import numpy as np\n",
    "import cudf\n",
    "import cupy\n",
    "import matplotlib.pyplot as plt"
   ]
  },
  {
   "cell_type": "markdown",
   "metadata": {},
   "source": [
    "Notice that in pykx, the embedded q session automatically utilizes all the 24 CPU threads without explicitly setting \\s\n",
    "\n",
    "This helps us confirm that the CPU is fully utilized to increase performance."
   ]
  },
  {
   "cell_type": "code",
   "execution_count": 4,
   "metadata": {},
   "outputs": [
    {
     "data": {
      "text/plain": [
       "pykx.IntAtom(pykx.q('24i'))"
      ]
     },
     "execution_count": 4,
     "metadata": {},
     "output_type": "execute_result"
    }
   ],
   "source": [
    "kx.q('\\s')"
   ]
  },
  {
   "cell_type": "markdown",
   "metadata": {},
   "source": [
    "#### 2.1 Quick Example for POC"
   ]
  },
  {
   "cell_type": "code",
   "execution_count": 5,
   "metadata": {
    "scrolled": true
   },
   "outputs": [
    {
     "name": "stdout",
     "output_type": "stream",
     "text": [
      "q result is :        nid    id\n",
      "0        0  8719\n",
      "1        2  6863\n",
      "2        6   267\n",
      "3        7  2810\n",
      "4        8  5503\n",
      "...    ...   ...\n",
      "6311  9992  7755\n",
      "6312  9993  4796\n",
      "6313  9994  4579\n",
      "6314  9995  4823\n",
      "6315  9996  8594\n",
      "\n",
      "[6316 rows x 2 columns]\n",
      "gpu result is        nid    id\n",
      "0        0  8719\n",
      "1        2  6863\n",
      "2        6   267\n",
      "3        7  2810\n",
      "4        8  5503\n",
      "...    ...   ...\n",
      "6311  9992  7755\n",
      "6312  9993  4796\n",
      "6313  9994  4579\n",
      "6314  9995  4823\n",
      "6315  9996  8594\n",
      "\n",
      "[6316 rows x 2 columns]\n"
     ]
    }
   ],
   "source": [
    "# generate a table of 10000 rows with 2 columns of random int\n",
    "qsql=f'x:10000;d:([]id:x?x;nid:x?x)'\n",
    "# the table will reside in the embedded q process after running the q sql\n",
    "kx.q(qsql)\n",
    "# run 'select-by' on table d and save result in r\n",
    "qresult = kx.q(\"0!select by nid from d\").pd().reset_index(drop=True)\n",
    "print(f'q result is : {qresult}')\n",
    "\n",
    "# using pykx function pd() to convert q process data to pandas data frame, and then pass into gpu using cudf from_pandas()\n",
    "gpudf = cudf.DataFrame.from_pandas(kx.q('d').pd())\n",
    "# run cudf functions to achieve equivalent 'select by' result ( note that kdb+ sorts the key column when running select-by, therefore the gpu result also needs to be sorted )\n",
    "gresult = gpudf.groupby('nid').last().reset_index().sort_values('nid').to_pandas()\n",
    "print(f'gpu result is {qresult}')"
   ]
  },
  {
   "cell_type": "markdown",
   "metadata": {},
   "source": [
    "First look of the two results are the same. We can define a comparison function to verify that the results match."
   ]
  },
  {
   "cell_type": "markdown",
   "metadata": {},
   "source": [
    "#### 2.2 Verification of results"
   ]
  },
  {
   "cell_type": "markdown",
   "metadata": {},
   "source": [
    "#### We compare the two results in terms of index column, column name, column data type, element-wise value, shape, and numpy array, to fully verify that the calculations make sense."
   ]
  },
  {
   "cell_type": "code",
   "execution_count": 8,
   "metadata": {},
   "outputs": [],
   "source": [
    "def result_equal(qresult, gresult):    \n",
    "    # print(\"Index equal:\", qresult.index.equals(gresult.index))\n",
    "    # print(\"Columns equal:\", qresult.columns.equals(gresult.columns))\n",
    "    # print(\"Columns type equal:\", qresult.dtypes == gresult.dtypes)\n",
    "    # print(\"Element-wise equality:\\n\", (qresult == gresult).all().all())  # True if all values match        \n",
    "    # print(\"Array equal:\", np.array_equal(qresult.to_numpy(), gresult.to_numpy()))\n",
    "    return qresult.shape == gresult.shape and qresult.columns.equals(gresult.columns) and qresult.index.equals(gresult.index) and np.array_equal(qresult.to_numpy(), gresult.to_numpy())"
   ]
  },
  {
   "cell_type": "code",
   "execution_count": 7,
   "metadata": {},
   "outputs": [
    {
     "name": "stdout",
     "output_type": "stream",
     "text": [
      "Index equal: True\n",
      "Columns equal: True\n",
      "Columns type equal: nid    True\n",
      "id     True\n",
      "dtype: bool\n",
      "Element-wise equality:\n",
      " True\n",
      "Array equal: True\n"
     ]
    },
    {
     "data": {
      "text/plain": [
       "True"
      ]
     },
     "execution_count": 7,
     "metadata": {},
     "output_type": "execute_result"
    }
   ],
   "source": [
    "result_equal(qresult, gresult)"
   ]
  },
  {
   "cell_type": "markdown",
   "metadata": {},
   "source": [
    "We can see that both the values in the results match, the metadata also match.\n",
    "Now we have verified that the two methods can produce the same results, we can move on to the benchmarking stage"
   ]
  },
  {
   "cell_type": "markdown",
   "metadata": {},
   "source": [
    "## 3. Define benchmark steps and specifications\n",
    "- init q workspace\n",
    "- generate data based on row count N (0 - 100M )\n",
    "- run \"select by\" statement inside the embedded q process and collect time cost\n",
    "- run GPU cudf equivalent on the GPU side and collect time cost ( this will include the data transfer overhead from RAM to GPU and GPU to RAM )\n",
    "- carry out 3 runs for every data size, take average time cost to avoid bias\n",
    "- the results generated from q and GPU are compared in every benchmark run and the comparison boolean result is record for final verification"
   ]
  },
  {
   "cell_type": "markdown",
   "metadata": {},
   "source": [
    "Note that the benchmarking of GPU time cost is a naive implementation based on CuPy reference:\n",
    "https://docs.cupy.dev/en/stable/user_guide/performance.html\n",
    "\n",
    "More sophisticated profiling methods can be used to provide better insights."
   ]
  },
  {
   "cell_type": "markdown",
   "metadata": {},
   "source": [
    "#### 3.1 Define benchmark functions"
   ]
  },
  {
   "cell_type": "code",
   "execution_count": 9,
   "metadata": {},
   "outputs": [],
   "source": [
    "def benchmark_q():\n",
    "    qts = kx.q('system\"t r:0!select by nid from d\"').py()       # store time cost in python object\n",
    "    qre = kx.q('r').pd().reset_index(drop=True)                 # store result in pandas dataframe\n",
    "    return qts, qre\n",
    "\n",
    "def benchmark_gpu():\n",
    "    start = cupy.cuda.Event()                                   # use cupy to capture time cost\n",
    "    end = cupy.cuda.Event()\n",
    "    start.record()    \n",
    "    gdf = cudf.DataFrame.from_pandas(kx.q('d').pd())            # convert q table object to pandas dataframe, and then transfer to gpu dataframe    \n",
    "    result = gdf.groupby('nid').last().reset_index().sort_values('nid').to_pandas()  # run cuda dataframe logic and transfer the result back to pandas dataframe, i.e. back to CPU/RAM\n",
    "    end.record()\n",
    "    end.synchronize()\n",
    "    elapsed_ms = cupy.cuda.get_elapsed_time(start, end)         # note that the overhead of data transfer cost from CPU -> GPU and GPU -> CPU are included\n",
    "    return elapsed_ms, result\n",
    "\n",
    "def benchmark(n:int):\n",
    "    kx.q('delete d,r from `.;.Q.gc[]')         # init q workspace to cleanup heap memory\n",
    "    qsql=f'x:{n};d:([]id:x?x;nid:x?x)'         # generate data based on row count N    \n",
    "    kx.q(qsql)                                 # run q sql\n",
    "    qts,qre = benchmark_q()                    # collect q benchmark results\n",
    "    gts,gre = benchmark_gpu()                  # collect gpu benchmark results    \n",
    "    rv = result_equal(qre, gre)\n",
    "    # print(f'Data Comparison between q result and GPU result : {rv}')   # print result comparison matching\n",
    "    return qts, gts, rv\n"
   ]
  },
  {
   "cell_type": "markdown",
   "metadata": {},
   "source": [
    "#### 3.2 Run benchmarks\n",
    "We use two caches to store the time cost for q and GPU separately, one cache for data comparison boolean result.\n",
    "\n",
    "The test data size range is from 0 to 100M, with step of 1M\n",
    "\n",
    "Time cost and result comparison results are printed in each round."
   ]
  },
  {
   "cell_type": "code",
   "execution_count": 20,
   "metadata": {
    "scrolled": true
   },
   "outputs": [
    {
     "name": "stdout",
     "output_type": "stream",
     "text": [
      "Collected 101 time cost metrics from the benchmark\n",
      "Final round benchmark stats is : Row Count : 100000000 | q time : 6085.0 ms | GPU time : 1235.8933512369792 ms\n"
     ]
    }
   ],
   "source": [
    "# initialize result cache for both methods\n",
    "keys = ['cnt','ts']\n",
    "qdict = {key: [] for key in keys}   # q result cache\n",
    "gdict = {key: [] for key in keys}   # gpu result cache\n",
    "result_validation = []              # result validation cache\n",
    "\n",
    "test_n = [i for i in range(0, 101_000_000, 1000000)]        # from 0 rows to 100M rows, with step of 1MM\n",
    "for n in test_n:\n",
    "    qt1, gt1, rv1 = benchmark(n)                             # collect 3 runs for every data size, take average to avoid outliers\n",
    "    qt2, gt2, rv2 = benchmark(n)\n",
    "    qt3, gt3, rv3 = benchmark(n)\n",
    "    qts = np.mean([qt1, qt2, qt3])                           # get average time cost\n",
    "    gts = np.mean([gt1, gt2, gt3])\n",
    "    rv = all((rv1, rv2, rv3))                                # confirm all 3 results match\n",
    "    # print(f\"time cost is \\t | q: {qts} ms and GPU : {gts} ms for row count {n}\")\n",
    "    qdict['cnt'].append(n)    \n",
    "    qdict['ts'].append(qts)\n",
    "    gdict['ts'].append(gts)\n",
    "    result_validation.append(rv)\n",
    "\n",
    "print(f'Collected {len(qdict[\"ts\"])} time cost metrics from the benchmark')\n",
    "print(f'Final round benchmark stats is : Row Count : {qdict[\"cnt\"][-1]} | q time : {qdict[\"ts\"][-1]} ms | GPU time : {gdict[\"ts\"][-1]} ms')"
   ]
  },
  {
   "cell_type": "markdown",
   "metadata": {},
   "source": [
    "#### 3.3 Verify that all results match\n",
    "\n",
    "All results generated in every benchmark round should match"
   ]
  },
  {
   "cell_type": "code",
   "execution_count": 21,
   "metadata": {},
   "outputs": [
    {
     "name": "stdout",
     "output_type": "stream",
     "text": [
      "All results for all data sizes match : True\n"
     ]
    }
   ],
   "source": [
    "print(f'All results for all data sizes match : {all(result_validation)}')"
   ]
  },
  {
   "cell_type": "markdown",
   "metadata": {},
   "source": [
    "## 4. Hardware/System Statistics for 100M Rows during benchmark"
   ]
  },
  {
   "cell_type": "markdown",
   "metadata": {},
   "source": [
    "#### 4.1 Run one benchmark on 100M rows"
   ]
  },
  {
   "cell_type": "code",
   "execution_count": 24,
   "metadata": {},
   "outputs": [
    {
     "data": {
      "text/plain": [
       "(6174, 1190.6826171875, True)"
      ]
     },
     "execution_count": 24,
     "metadata": {},
     "output_type": "execute_result"
    }
   ],
   "source": [
    "# reinit q session\n",
    "kx.q('delete d,r from `.;.Q.gc[]')\n",
    "# run benchmark\n",
    "benchmark(100000000)"
   ]
  },
  {
   "cell_type": "markdown",
   "metadata": {},
   "source": [
    "#### 4.2 Retrieve q heap info"
   ]
  },
  {
   "cell_type": "code",
   "execution_count": 25,
   "metadata": {},
   "outputs": [
    {
     "data": {
      "text/html": [
       "<table border=\"1\" class=\"dataframe\">\n",
       "  <thead>\n",
       "    <tr style=\"text-align: right;\">\n",
       "      <th></th>\n",
       "      <th></th>\n",
       "    </tr>\n",
       "    <tr>\n",
       "      <th></th>\n",
       "      <th></th>\n",
       "    </tr>\n",
       "  </thead>\n",
       "  <tbody>\n",
       "    <tr>\n",
       "      <th>used</th>\n",
       "      <td>3.2233</td>\n",
       "    </tr>\n",
       "    <tr>\n",
       "      <th>heap</th>\n",
       "      <td>7.583302</td>\n",
       "    </tr>\n",
       "    <tr>\n",
       "      <th>peak</th>\n",
       "      <td>7.583302</td>\n",
       "    </tr>\n",
       "    <tr>\n",
       "      <th>wmax</th>\n",
       "      <td>0f</td>\n",
       "    </tr>\n",
       "    <tr>\n",
       "      <th>mmap</th>\n",
       "      <td>0f</td>\n",
       "    </tr>\n",
       "    <tr>\n",
       "      <th>mphy</th>\n",
       "      <td>33.56764</td>\n",
       "    </tr>\n",
       "    <tr>\n",
       "      <th>syms</th>\n",
       "      <td>3.499e-06</td>\n",
       "    </tr>\n",
       "    <tr>\n",
       "      <th>symw</th>\n",
       "      <td>0.000181541</td>\n",
       "    </tr>\n",
       "  </tbody>\n",
       "</table>"
      ],
      "text/plain": [
       "pykx.Dictionary(pykx.q('\n",
       "used| 3.2233\n",
       "heap| 7.583302\n",
       "peak| 7.583302\n",
       "wmax| 0\n",
       "mmap| 0\n",
       "mphy| 33.56764\n",
       "syms| 3.499e-06\n",
       "symw| 0.000181541\n",
       "'))"
      ]
     },
     "execution_count": 25,
     "metadata": {},
     "output_type": "execute_result"
    }
   ],
   "source": [
    "# retrieve q session memory info, convert unit to GB using 1e9 as estimation\n",
    "kx.q('.Q.w[]%1e9')"
   ]
  },
  {
   "cell_type": "markdown",
   "metadata": {},
   "source": [
    "#### 4.3 General system properties during benchmark\n",
    "The system's statistics are as following:\n",
    "\n",
    "RAM usage      :  16GB\n",
    "\n",
    "GPU VRAM usage :  2.5GB\n",
    "\n",
    "q mem usage    :  3.2GB\n",
    "\n",
    "q heap size    :  7.6GB"
   ]
  },
  {
   "cell_type": "markdown",
   "metadata": {},
   "source": [
    "## 5. Illustration of performance of q process on CPU, and GPU CUDA\n",
    "The results of time cost of the queries are plotted using matplotlib as below.\n",
    "\n",
    "#### 5.1 Time vs Size\n",
    "x-axis shows the table size in millions (MM)\n",
    "\n",
    "y-axis shows the 'select-by' query time in ms"
   ]
  },
  {
   "cell_type": "code",
   "execution_count": 26,
   "metadata": {
    "jupyter": {
     "source_hidden": true
    }
   },
   "outputs": [
    {
     "data": {
      "image/png": "[encoded data removed]",
      "text/plain": [
       "<Figure size 640x480 with 1 Axes>"
      ]
     },
     "metadata": {},
     "output_type": "display_data"
    }
   ],
   "source": [
    "from matplotlib.ticker import FuncFormatter\n",
    "\n",
    "# Plot\n",
    "plt.plot(qdict['cnt'], qdict['ts'], label='q time', color='#003f5c')\n",
    "plt.plot(qdict['cnt'], gdict['ts'], label='gpu time', color='#2ca02c')\n",
    "\n",
    "# Format x-axis to show in K\n",
    "formatter = FuncFormatter(lambda x_val, _: f'{x_val/1000000:.0f}M')\n",
    "plt.gca().xaxis.set_major_formatter(formatter)\n",
    "\n",
    "# Labels and title\n",
    "plt.xlabel('Data size (MM)')  # or any label for x\n",
    "plt.ylabel('Time (ms)')\n",
    "plt.title('Comparison of q and GPU times')\n",
    "plt.legend()\n",
    "plt.grid(True)\n",
    "\n",
    "# Show the plot\n",
    "plt.show()"
   ]
  },
  {
   "cell_type": "markdown",
   "metadata": {},
   "source": [
    "#### 5.2 Relative performance by size"
   ]
  },
  {
   "cell_type": "markdown",
   "metadata": {},
   "source": [
    "We also draw a bar chart showing the time performance comparison in percentage (%) at each millions of rows\n",
    "\n",
    "x-axis shows the number of rows in millions (MM)\n",
    "\n",
    "y-axis shows the 'select-by' query time in ms\n",
    "\n",
    "% number on the green bar shows the relative time cost comparing to the q process (blue bar)"
   ]
  },
  {
   "cell_type": "code",
   "execution_count": 27,
   "metadata": {
    "jupyter": {
     "source_hidden": true
    }
   },
   "outputs": [
    {
     "data": {
      "image/png": "[encoded data removed]",
      "text/plain": [
       "<Figure size 1000x600 with 1 Axes>"
      ]
     },
     "metadata": {},
     "output_type": "display_data"
    }
   ],
   "source": [
    "import matplotlib.pyplot as plt\n",
    "import numpy as np\n",
    "from matplotlib.ticker import FuncFormatter\n",
    "\n",
    "x = qdict['cnt']\n",
    "\n",
    "# === CONFIG ===\n",
    "offset = 1_0000_000\n",
    "threshold_step = 1_0000_000\n",
    "max_x_val = max(x)\n",
    "target_xs = list(range(offset, max_x_val + 1, threshold_step))\n",
    "# print(len(target_xs))\n",
    "# Map x to index\n",
    "x_index_map = {val: idx for idx, val in enumerate(x)}\n",
    "\n",
    "# Gather data\n",
    "bar_x = []\n",
    "q_vals = []\n",
    "g_vals = []\n",
    "pct_labels = []\n",
    "\n",
    "for tx in target_xs:\n",
    "    if tx in x_index_map:\n",
    "        i = x_index_map[tx]\n",
    "        qt = qdict['ts'][i]\n",
    "        gt = gdict['ts'][i]\n",
    "        if qt > 0:\n",
    "            bar_x.append(tx)\n",
    "            q_vals.append(qt)\n",
    "            g_vals.append(gt)\n",
    "            pct = 100 * gt / qt\n",
    "            pct_labels.append(f'{pct:.1f}%')\n",
    "        else:\n",
    "            # If qt == 0, avoid division by zero\n",
    "            bar_x.append(tx)\n",
    "            q_vals.append(qt)\n",
    "            g_vals.append(gt)\n",
    "            pct_labels.append('N/A')\n",
    "\n",
    "# Plotting\n",
    "bar_width = threshold_step * 0.3\n",
    "x_vals = np.array(bar_x)\n",
    "\n",
    "fig, ax = plt.subplots(figsize=(10, 6))\n",
    "\n",
    "bars_q = ax.bar(x_vals - bar_width/2, q_vals, width=bar_width, label='q time', color='#003f5c')  # deep blue\n",
    "bars_g = ax.bar(x_vals + bar_width/2, g_vals, width=bar_width, label='gpu time', color='#2ca02c')  # vibrant green\n",
    "\n",
    "# Format x-axis to show in millions\n",
    "ax.xaxis.set_major_formatter(FuncFormatter(lambda x, _: f'{(x - offset + threshold_step) / 1_000_000:.2f}M'))\n",
    "\n",
    "# Add % labels on top of gdict bars\n",
    "for bar, label in zip(bars_g, pct_labels):\n",
    "    ax.text(bar.get_x() + bar.get_width() * 1, bar.get_height() + max(q_vals) * 0.01,\n",
    "            label, ha='center', va='bottom', fontsize=8, rotation=0, color='black')\n",
    "\n",
    "# Labels and layout\n",
    "ax.set_xlabel('Data size (MM)')\n",
    "ax.set_ylabel('Time (ms)')\n",
    "ax.set_title('q vs GPU Actual Time with % annotated')\n",
    "ax.legend()\n",
    "ax.grid(axis='y')\n",
    "\n",
    "plt.tight_layout()\n",
    "plt.show()\n"
   ]
  },
  {
   "cell_type": "markdown",
   "metadata": {},
   "source": [
    "## 6. Analysis"
   ]
  },
  {
   "cell_type": "markdown",
   "metadata": {
    "jp-MarkdownHeadingCollapsed": true
   },
   "source": [
    "The results and charts show that even with data transfer overhead through the pipeline ( pykx.q() -> CPU pandas dataframe -> GPU cuda dataframe -> CPU pandas dataframe ), GPU can deliever over **5x** the performance as CPU due to the overwhelming advantage of number of cores when it comes to parallelized data processing.\n",
    "\n",
    "Both the CPU and GPU performances have linear relationship with the data size while GPU performance is affected by a much smaller factor.\n",
    "\n",
    "100M rows of data seems to be using reasonable memory either in RAM or GPU, however, there's a large overhead between real data size and the heap that python requires during object conversion between the q session and pandas/cuda. At 100M rows, the real q data size is 3GB but python requires 16GB of RAM to hold the data in pandas, which suggest an inefficiency of interation between q and python.\n",
    "\n",
    "#### 6.1 Conclusion\n",
    "When memory size is within the system limit, it might be worthwhile to consider leveraging GPU to speed up certain data queries that are relatively slow in q with the help of pykx's API to convert objects between q and python."
   ]
  },
  {
   "cell_type": "markdown",
   "metadata": {},
   "source": [
    "#### 6.2 Limitations and Improvements"
   ]
  },
  {
   "cell_type": "markdown",
   "metadata": {},
   "source": [
    "#### 6.2.1 Limiation of memory usage \n",
    "The PC system used in this test has 32GB of RAM limitations and 16GB of GPU VRAM limitations which blocks us from testing higher volumne of data more than 150M rows so that we are not able to simulate the situation where GPU VRAM is not enough to process the data while CPU RAM can, which can be a key decision factor for certain usages with large data.\n",
    "\n",
    "Large data volumes (over 10GB) might also demonstrate higher overhead of data transfer cost between CPU and GPU which decreases GPU performance.\n",
    "\n",
    "Modern GPU's VRAM capacity is much lower than RAM capacity even in the enterprise domain, and at much higher cost, this leads to trade-offs when choosing between the solutions."
   ]
  },
  {
   "cell_type": "markdown",
   "metadata": {},
   "source": [
    "#### 6.2.2 Complexity of query\n",
    "'select-by' is a basic query in real world usecases. kdb+/q supports queries with much higher complexity, whether those can be achieved using python/CUDA dataframe are yet to be learned and tested"
   ]
  },
  {
   "cell_type": "markdown",
   "metadata": {},
   "source": [
    "#### 6.2.3 Higher end CPU and GPU to be tested\n",
    "There might be a hardware bias between the CPU performance and GPU in this test. Higher end CPUs might deliver comparable results. Whether higher end GPU will deliver better result is yet to be seen due to the overkill of the number of cores."
   ]
  },
  {
   "cell_type": "markdown",
   "metadata": {},
   "source": [
    "## 7. Appendix Material"
   ]
  },
  {
   "cell_type": "markdown",
   "metadata": {},
   "source": [
    "#### 7.1 To avoid kdb+/q performance bias between pykx's embedded q session and the native q session from l64/q binary, we did a comparison between the two using data size of 100M"
   ]
  },
  {
   "cell_type": "markdown",
   "metadata": {},
   "source": [
    "We started a native q session in linux terminal with '-s 24' to be consistent with the test configuration.\n",
    "\n",
    "'select-by' was run on a table with 100M rows and time-space complexity are matching the benchmark result at the same data size."
   ]
  },
  {
   "cell_type": "code",
   "execution_count": null,
   "metadata": {},
   "outputs": [],
   "source": [
    "KDB+ 4.1 2025.02.18 Copyright (C) 1993-2025 Kx Systems\n",
    "l64/ 24(24)core 32012MB hyin hyin-desktop 127.0.1.1 EXPIRE 2026.03.25 yxcntu@gmail.com KDB PLUS PERSONAL #5025134\n",
    "q)x:100000000;d:([]id:x?x;nid:x?x)\n",
    "q)\\ts select by nid from d\n",
    "6089 3221226288     / time cost 6000ms is similar to benchmark\n",
    "q)\\s                / confirm threads count\n",
    "24i\n",
    "q)3221226288%1e9    / convert mem usage to GB\n",
    "3.221226\n",
    "q)\n"
   ]
  },
  {
   "cell_type": "markdown",
   "metadata": {},
   "source": [
    "#### 7.2 Python Pandas performance using CPU/RAM\n",
    "Out of curiosity, we also checked how long python pandas dataframe would take to run the select-by query on 100M of data in the CPU RAM, and it took nearly 30 seconds!"
   ]
  },
  {
   "cell_type": "code",
   "execution_count": 30,
   "metadata": {},
   "outputs": [
    {
     "name": "stdout",
     "output_type": "stream",
     "text": [
      "Time taken: 29.363762 seconds\n"
     ]
    },
    {
     "data": {
      "text/plain": [
       "True"
      ]
     },
     "execution_count": 30,
     "metadata": {},
     "output_type": "execute_result"
    }
   ],
   "source": [
    "import time\n",
    "\n",
    "# generate a table of 10000 rows with 2 columns of random int\n",
    "qsql=f'x:100000000;d:([]id:x?x;nid:x?x)'\n",
    "# the table will reside in the embedded q process after running the q sql\n",
    "kx.q(qsql)\n",
    "# run 'select-by' on table d and save result in r\n",
    "qresult = kx.q(\"0!select by nid from d\").pd().reset_index(drop=True)\n",
    "\n",
    "# using pykx function pd() to convert q process data to pandas data frame\n",
    "pdf = kx.q('d').pd()\n",
    "\n",
    "# run pandas functions to achieve equivalent 'select by' result ( note that kdb+ sorts the key column when running select-by, therefore the pandas result also needs to be sorted )\n",
    "start_time = time.time()\n",
    "presult = pdf.groupby('nid').last().reset_index().sort_values('nid')\n",
    "end_time = time.time()\n",
    "print(f\"Time taken: {end_time - start_time:.6f} seconds\")\n",
    "\n",
    "# compare results\n",
    "result_equal(qresult, presult)"
   ]
  },
  {
   "cell_type": "markdown",
   "metadata": {},
   "source": [
    "## Reference\n",
    "1. https://code.kx.com/pykx/3.1/index.html\n",
    "2. https://docs.cupy.dev/en/stable/user_guide/performance.html\n",
    "3. https://github.com/rapidsai/cudf\n",
    "4. https://www.techpowerup.com/cpu-specs/ryzen-9-5900x.c2363\n",
    "5. https://www.techpowerup.com/gpu-specs/geforce-rtx-4060-ti-16-gb.c4155\n",
    "6. https://en.wikipedia.org/wiki/CUDA\n"
   ]
  },
  {
   "cell_type": "code",
   "execution_count": null,
   "metadata": {},
   "outputs": [],
   "source": []
  }
 ],
 "metadata": {
  "kernelspec": {
   "display_name": "cuda",
   "language": "python",
   "name": "python3"
  },
  "language_info": {
   "codemirror_mode": {
    "name": "ipython",
    "version": 3
   },
   "file_extension": ".py",
   "mimetype": "text/x-python",
   "name": "python",
   "nbconvert_exporter": "python",
   "pygments_lexer": "ipython3",
   "version": "3.10.16"
  }
 },
 "nbformat": 4,
 "nbformat_minor": 4
}
